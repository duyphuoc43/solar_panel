{
 "cells": [
  {
   "cell_type": "code",
   "execution_count": 1,
   "metadata": {},
   "outputs": [],
   "source": [
    "import os\n",
    "import numpy as np\n",
    "from ultralytics import YOLO\n",
    "\n",
    "\n",
    "# Load a model\n",
    "model = YOLO(\"yolov8n.yaml\")  # build a new model from scratch"
   ]
  },
  {
   "cell_type": "code",
   "execution_count": 3,
   "metadata": {},
   "outputs": [
    {
     "name": "stdout",
     "output_type": "stream",
     "text": [
      "Ultralytics YOLOv8.2.2 🚀 Python-3.10.12 torch-2.2.2+cu121 CUDA:0 (NVIDIA GeForce RTX 3060 Laptop GPU, 5938MiB)\n",
      "\u001b[34m\u001b[1mengine/trainer: \u001b[0mtask=detect, mode=train, model=yolov8n.yaml, data=data/Cairo-Car-v3-5/data.yaml, epochs=100, time=None, patience=100, batch=16, imgsz=640, save=True, save_period=-1, cache=False, device=None, workers=8, project=None, name=train12, exist_ok=False, pretrained=True, optimizer=auto, verbose=True, seed=0, deterministic=True, single_cls=False, rect=False, cos_lr=False, close_mosaic=10, resume=False, amp=True, fraction=1.0, profile=False, freeze=None, multi_scale=False, overlap_mask=True, mask_ratio=4, dropout=0.0, val=True, split=val, save_json=False, save_hybrid=False, conf=None, iou=0.7, max_det=300, half=False, dnn=False, plots=True, source=None, vid_stride=1, stream_buffer=False, visualize=False, augment=False, agnostic_nms=False, classes=None, retina_masks=False, embed=None, show=False, save_frames=False, save_txt=False, save_conf=False, save_crop=False, show_labels=True, show_conf=True, show_boxes=True, line_width=None, format=torchscript, keras=False, optimize=False, int8=False, dynamic=False, simplify=False, opset=None, workspace=4, nms=False, lr0=0.01, lrf=0.01, momentum=0.937, weight_decay=0.0005, warmup_epochs=3.0, warmup_momentum=0.8, warmup_bias_lr=0.1, box=7.5, cls=0.5, dfl=1.5, pose=12.0, kobj=1.0, label_smoothing=0.0, nbs=64, hsv_h=0.015, hsv_s=0.7, hsv_v=0.4, degrees=0.0, translate=0.1, scale=0.5, shear=0.0, perspective=0.0, flipud=0.0, fliplr=0.5, bgr=0.0, mosaic=1.0, mixup=0.0, copy_paste=0.0, auto_augment=randaugment, erasing=0.4, crop_fraction=1.0, cfg=None, tracker=botsort.yaml, save_dir=runs/detect/train12\n",
      "\n",
      "                   from  n    params  module                                       arguments                     \n",
      "  0                  -1  1       464  ultralytics.nn.modules.conv.Conv             [3, 16, 3, 2]                 \n",
      "  1                  -1  1      4672  ultralytics.nn.modules.conv.Conv             [16, 32, 3, 2]                \n",
      "  2                  -1  1      7360  ultralytics.nn.modules.block.C2f             [32, 32, 1, True]             \n",
      "  3                  -1  1     18560  ultralytics.nn.modules.conv.Conv             [32, 64, 3, 2]                \n",
      "  4                  -1  2     49664  ultralytics.nn.modules.block.C2f             [64, 64, 2, True]             \n",
      "  5                  -1  1     73984  ultralytics.nn.modules.conv.Conv             [64, 128, 3, 2]               \n",
      "  6                  -1  2    197632  ultralytics.nn.modules.block.C2f             [128, 128, 2, True]           \n",
      "  7                  -1  1    295424  ultralytics.nn.modules.conv.Conv             [128, 256, 3, 2]              \n",
      "  8                  -1  1    460288  ultralytics.nn.modules.block.C2f             [256, 256, 1, True]           \n",
      "  9                  -1  1    164608  ultralytics.nn.modules.block.SPPF            [256, 256, 5]                 \n",
      " 10                  -1  1         0  torch.nn.modules.upsampling.Upsample         [None, 2, 'nearest']          \n",
      " 11             [-1, 6]  1         0  ultralytics.nn.modules.conv.Concat           [1]                           \n",
      " 12                  -1  1    148224  ultralytics.nn.modules.block.C2f             [384, 128, 1]                 \n",
      " 13                  -1  1         0  torch.nn.modules.upsampling.Upsample         [None, 2, 'nearest']          \n",
      " 14             [-1, 4]  1         0  ultralytics.nn.modules.conv.Concat           [1]                           \n",
      " 15                  -1  1     37248  ultralytics.nn.modules.block.C2f             [192, 64, 1]                  \n",
      " 16                  -1  1     36992  ultralytics.nn.modules.conv.Conv             [64, 64, 3, 2]                \n",
      " 17            [-1, 12]  1         0  ultralytics.nn.modules.conv.Concat           [1]                           \n",
      " 18                  -1  1    123648  ultralytics.nn.modules.block.C2f             [192, 128, 1]                 \n",
      " 19                  -1  1    147712  ultralytics.nn.modules.conv.Conv             [128, 128, 3, 2]              \n",
      " 20             [-1, 9]  1         0  ultralytics.nn.modules.conv.Concat           [1]                           \n",
      " 21                  -1  1    493056  ultralytics.nn.modules.block.C2f             [384, 256, 1]                 \n",
      " 22        [15, 18, 21]  1    751897  ultralytics.nn.modules.head.Detect           [3, [64, 128, 256]]           \n",
      "YOLOv8n summary: 225 layers, 3011433 parameters, 3011417 gradients, 8.2 GFLOPs\n",
      "\n",
      "Freezing layer 'model.22.dfl.conv.weight'\n",
      "\u001b[34m\u001b[1mAMP: \u001b[0mrunning Automatic Mixed Precision (AMP) checks with YOLOv8n...\n",
      "\u001b[34m\u001b[1mAMP: \u001b[0mchecks passed ✅\n"
     ]
    },
    {
     "name": "stderr",
     "output_type": "stream",
     "text": [
      "\u001b[34m\u001b[1mtrain: \u001b[0mScanning /home/duyphuoc/Desktop/ai/solar_panel/data/Cairo-Car-v3-5/train/labels.cache... 416 images, 46 backgrounds, 0 corrupt: 100%|██████████| 416/416 [00:00<?, ?it/s]\n",
      "\u001b[34m\u001b[1mval: \u001b[0mScanning /home/duyphuoc/Desktop/ai/solar_panel/data/Cairo-Car-v3-5/valid/labels.cache... 157 images, 13 backgrounds, 0 corrupt: 100%|██████████| 157/157 [00:00<?, ?it/s]\n"
     ]
    },
    {
     "name": "stdout",
     "output_type": "stream",
     "text": [
      "Plotting labels to runs/detect/train12/labels.jpg... \n",
      "\u001b[34m\u001b[1moptimizer:\u001b[0m 'optimizer=auto' found, ignoring 'lr0=0.01' and 'momentum=0.937' and determining best 'optimizer', 'lr0' and 'momentum' automatically... \n",
      "\u001b[34m\u001b[1moptimizer:\u001b[0m AdamW(lr=0.001429, momentum=0.9) with parameter groups 57 weight(decay=0.0), 64 weight(decay=0.0005), 63 bias(decay=0.0)\n",
      "Image sizes 640 train, 640 val\n",
      "Using 8 dataloader workers\n",
      "Logging results to \u001b[1mruns/detect/train12\u001b[0m\n",
      "Starting training for 100 epochs...\n",
      "\n",
      "      Epoch    GPU_mem   box_loss   cls_loss   dfl_loss  Instances       Size\n"
     ]
    },
    {
     "name": "stderr",
     "output_type": "stream",
     "text": [
      "      1/100      2.42G      3.785      4.457      4.268        114        640: 100%|██████████| 26/26 [00:03<00:00,  6.51it/s]\n",
      "                 Class     Images  Instances      Box(P          R      mAP50  mAP50-95): 100%|██████████| 5/5 [00:01<00:00,  4.07it/s]"
     ]
    },
    {
     "name": "stdout",
     "output_type": "stream",
     "text": [
      "                   all        157        698    0.00289     0.0796     0.0119    0.00335\n"
     ]
    },
    {
     "name": "stderr",
     "output_type": "stream",
     "text": [
      "\n"
     ]
    },
    {
     "name": "stdout",
     "output_type": "stream",
     "text": [
      "\n",
      "      Epoch    GPU_mem   box_loss   cls_loss   dfl_loss  Instances       Size\n"
     ]
    },
    {
     "name": "stderr",
     "output_type": "stream",
     "text": [
      "      2/100      2.32G      3.781      3.907      4.078         92        640: 100%|██████████| 26/26 [00:07<00:00,  3.59it/s]\n",
      "                 Class     Images  Instances      Box(P          R      mAP50  mAP50-95): 100%|██████████| 5/5 [00:01<00:00,  2.80it/s]"
     ]
    },
    {
     "name": "stdout",
     "output_type": "stream",
     "text": [
      "                   all        157        698    0.00288     0.0837     0.0134    0.00437\n"
     ]
    },
    {
     "name": "stderr",
     "output_type": "stream",
     "text": [
      "\n"
     ]
    },
    {
     "name": "stdout",
     "output_type": "stream",
     "text": [
      "\n",
      "      Epoch    GPU_mem   box_loss   cls_loss   dfl_loss  Instances       Size\n"
     ]
    },
    {
     "name": "stderr",
     "output_type": "stream",
     "text": [
      "      3/100      2.31G      3.684       3.59      3.888        117        640:  19%|█▉        | 5/26 [00:43<04:22, 12.51s/it]"
     ]
    },
    {
     "ename": "",
     "evalue": "",
     "output_type": "error",
     "traceback": [
      "\u001b[1;31mThe Kernel crashed while executing code in the current cell or a previous cell. \n",
      "\u001b[1;31mPlease review the code in the cell(s) to identify a possible cause of the failure. \n",
      "\u001b[1;31mClick <a href='https://aka.ms/vscodeJupyterKernelCrash'>here</a> for more info. \n",
      "\u001b[1;31mView Jupyter <a href='command:jupyter.viewOutput'>log</a> for further details."
     ]
    }
   ],
   "source": [
    "results = model.train(data=\"/home/duyphuoc/Desktop/ai/solar_panel/data_solar/data.yaml\", epochs=100)  # train the model"
   ]
  },
  {
   "cell_type": "code",
   "execution_count": 55,
   "metadata": {},
   "outputs": [],
   "source": [
    "model = YOLO(\"runs/detect/train2/weights/best.pt\")  # build a new model from scratch"
   ]
  },
  {
   "cell_type": "code",
   "execution_count": 41,
   "metadata": {},
   "outputs": [
    {
     "name": "stdout",
     "output_type": "stream",
     "text": [
      "\n",
      "0: 640x640 6 panels, 8.5ms\n",
      "Speed: 9.2ms preprocess, 8.5ms inference, 1.7ms postprocess per image at shape (1, 3, 640, 640)\n"
     ]
    },
    {
     "name": "stderr",
     "output_type": "stream",
     "text": [
      "/snap/core20/current/lib/x86_64-linux-gnu/libstdc++.so.6: version `GLIBCXX_3.4.29' not found (required by /lib/x86_64-linux-gnu/libproxy.so.1)\n",
      "Failed to load module: /home/duyphuoc/snap/code/common/.cache/gio-modules/libgiolibproxy.so\n",
      "eog: symbol lookup error: /snap/core20/current/lib/x86_64-linux-gnu/libpthread.so.0: undefined symbol: __libc_pthread_init, version GLIBC_PRIVATE\n"
     ]
    }
   ],
   "source": [
    "from ultralytics import YOLO\n",
    "\n",
    "# Load a model\n",
    "# model = YOLO('yolov8n.pt')  # pretrained YOLOv8n model\n",
    "\n",
    "# Run batched inference on a list of images\n",
    "results = model(['data_couter/DOAN/solar-panel-infrared-images.v5i.multiclass/train/Drone_Solar_Sample2_mp4-115_jpg.rf.55f765121f81ce7bd49eed56d8f4d3a4.jpg'])  # return a list of Results objects\n",
    "\n",
    "# Process results list\n",
    "for result in results:\n",
    "    boxes = result.boxes  # Boxes object for bounding box outputs\n",
    "    masks = result.masks  # Masks object for segmentation masks outputs\n",
    "    keypoints = result.keypoints  # Keypoints object for pose outputs\n",
    "    probs = result.probs  # Probs object for classification outputs\n",
    "    result.show()  # display to screen\n",
    "    result.save(filename='result.jpg')  # save to disk"
   ]
  },
  {
   "cell_type": "code",
   "execution_count": 45,
   "metadata": {},
   "outputs": [
    {
     "name": "stdout",
     "output_type": "stream",
     "text": [
      "\n",
      "image 1/1 /home/duyphuoc/Desktop/ai/solar_panel/data_couter/DOAN/solar-panel-infrared-images.v5i.multiclass/train/Drone_Solar_Sample2_mp4-115_jpg.rf.55f765121f81ce7bd49eed56d8f4d3a4.jpg: 320x320 (no detections), 8.8ms\n",
      "Speed: 7.4ms preprocess, 8.8ms inference, 0.7ms postprocess per image at shape (1, 3, 320, 320)\n",
      "Results saved to \u001b[1mruns/detect/predict\u001b[0m\n"
     ]
    }
   ],
   "source": [
    "results = model.predict('data_couter/DOAN/solar-panel-infrared-images.v5i.multiclass/train/Drone_Solar_Sample2_mp4-115_jpg.rf.55f765121f81ce7bd49eed56d8f4d3a4.jpg', save=True, imgsz=320, conf=0.5)"
   ]
  },
  {
   "cell_type": "code",
   "execution_count": 57,
   "metadata": {},
   "outputs": [
    {
     "data": {
      "text/plain": [
       "[ultralytics.engine.results.Results object with attributes:\n",
       " \n",
       " boxes: ultralytics.engine.results.Boxes object\n",
       " keypoints: None\n",
       " masks: None\n",
       " names: {0: 'panel'}\n",
       " obb: None\n",
       " orig_img: array([[[  0,   0,  25],\n",
       "         [  0,   2,  40],\n",
       "         [  0,   0,  32],\n",
       "         ...,\n",
       "         [  0,   0,  39],\n",
       "         [  0,   0,  39],\n",
       "         [  0,   0,  40]],\n",
       " \n",
       "        [[  0,   8,  46],\n",
       "         [104, 133, 172],\n",
       "         [ 99, 168, 207],\n",
       "         ...,\n",
       "         [ 72, 142, 195],\n",
       "         [ 71, 144, 196],\n",
       "         [ 69, 144, 196]],\n",
       " \n",
       "        [[  0,   0,  34],\n",
       "         [ 75, 145, 185],\n",
       "         [ 71, 179, 221],\n",
       "         ...,\n",
       "         [ 41, 145, 214],\n",
       "         [ 39, 146, 214],\n",
       "         [ 39, 146, 214]],\n",
       " \n",
       "        ...,\n",
       " \n",
       "        [[ 44,   0,  46],\n",
       "         [117,  36, 123],\n",
       "         [123,  25, 137],\n",
       "         ...,\n",
       "         [143,  15, 134],\n",
       "         [141,  14, 135],\n",
       "         [141,  14, 135]],\n",
       " \n",
       "        [[ 44,   0,  46],\n",
       "         [117,  36, 123],\n",
       "         [124,  26, 138],\n",
       "         ...,\n",
       "         [143,  14, 135],\n",
       "         [141,  14, 137],\n",
       "         [141,  14, 137]],\n",
       " \n",
       "        [[ 44,   0,  46],\n",
       "         [117,  36, 123],\n",
       "         [124,  26, 138],\n",
       "         ...,\n",
       "         [143,  14, 135],\n",
       "         [141,  14, 137],\n",
       "         [141,  14, 137]]], dtype=uint8)\n",
       " orig_shape: (416, 416)\n",
       " path: '/home/duyphuoc/Desktop/ai/solar_panel/data_couter/DOAN/solar-panel-infrared-images.v5i.multiclass/train/Drone_Solar_Sample2_mp4-115_jpg.rf.55f765121f81ce7bd49eed56d8f4d3a4.jpg'\n",
       " probs: None\n",
       " save_dir: 'runs/detect/predict'\n",
       " speed: {'preprocess': 7.353305816650391, 'inference': 8.836984634399414, 'postprocess': 0.7274150848388672}]"
      ]
     },
     "execution_count": 57,
     "metadata": {},
     "output_type": "execute_result"
    }
   ],
   "source": [
    "results"
   ]
  },
  {
   "cell_type": "code",
   "execution_count": 10,
   "metadata": {},
   "outputs": [
    {
     "name": "stdout",
     "output_type": "stream",
     "text": [
      "Đã đổi tên hotspot_1.jpg thành hotspot2_hotspot_1.jpg\n",
      "Đã đổi tên hotspot_10.jpg thành hotspot2_hotspot_10.jpg\n",
      "Đã đổi tên hotspot_100.jpg thành hotspot2_hotspot_100.jpg\n",
      "Đã đổi tên hotspot_101.jpg thành hotspot2_hotspot_101.jpg\n",
      "Đã đổi tên hotspot_102.jpg thành hotspot2_hotspot_102.jpg\n",
      "Đã đổi tên hotspot_103.jpg thành hotspot2_hotspot_103.jpg\n",
      "Đã đổi tên hotspot_104.jpg thành hotspot2_hotspot_104.jpg\n",
      "Đã đổi tên hotspot_105.jpg thành hotspot2_hotspot_105.jpg\n",
      "Đã đổi tên hotspot_106.jpg thành hotspot2_hotspot_106.jpg\n",
      "Đã đổi tên hotspot_107.jpg thành hotspot2_hotspot_107.jpg\n",
      "Đã đổi tên hotspot_108.jpg thành hotspot2_hotspot_108.jpg\n",
      "Đã đổi tên hotspot_109.jpg thành hotspot2_hotspot_109.jpg\n",
      "Đã đổi tên hotspot_11.jpg thành hotspot2_hotspot_11.jpg\n",
      "Đã đổi tên hotspot_110.jpg thành hotspot2_hotspot_110.jpg\n",
      "Đã đổi tên hotspot_111.jpg thành hotspot2_hotspot_111.jpg\n",
      "Đã đổi tên hotspot_112.jpg thành hotspot2_hotspot_112.jpg\n",
      "Đã đổi tên hotspot_113.jpg thành hotspot2_hotspot_113.jpg\n",
      "Đã đổi tên hotspot_114.jpg thành hotspot2_hotspot_114.jpg\n",
      "Đã đổi tên hotspot_115.jpg thành hotspot2_hotspot_115.jpg\n",
      "Đã đổi tên hotspot_116.jpg thành hotspot2_hotspot_116.jpg\n",
      "Đã đổi tên hotspot_117.jpg thành hotspot2_hotspot_117.jpg\n",
      "Đã đổi tên hotspot_118.jpg thành hotspot2_hotspot_118.jpg\n",
      "Đã đổi tên hotspot_119.jpg thành hotspot2_hotspot_119.jpg\n",
      "Đã đổi tên hotspot_12.jpg thành hotspot2_hotspot_12.jpg\n",
      "Đã đổi tên hotspot_120.jpg thành hotspot2_hotspot_120.jpg\n",
      "Đã đổi tên hotspot_121.jpg thành hotspot2_hotspot_121.jpg\n",
      "Đã đổi tên hotspot_122.jpg thành hotspot2_hotspot_122.jpg\n",
      "Đã đổi tên hotspot_123.jpg thành hotspot2_hotspot_123.jpg\n",
      "Đã đổi tên hotspot_124.jpg thành hotspot2_hotspot_124.jpg\n",
      "Đã đổi tên hotspot_125.jpg thành hotspot2_hotspot_125.jpg\n",
      "Đã đổi tên hotspot_126.jpg thành hotspot2_hotspot_126.jpg\n",
      "Đã đổi tên hotspot_127.jpg thành hotspot2_hotspot_127.jpg\n",
      "Đã đổi tên hotspot_128.jpg thành hotspot2_hotspot_128.jpg\n",
      "Đã đổi tên hotspot_129.jpg thành hotspot2_hotspot_129.jpg\n",
      "Đã đổi tên hotspot_13.jpg thành hotspot2_hotspot_13.jpg\n",
      "Đã đổi tên hotspot_130.jpg thành hotspot2_hotspot_130.jpg\n",
      "Đã đổi tên hotspot_131.jpg thành hotspot2_hotspot_131.jpg\n",
      "Đã đổi tên hotspot_132.jpg thành hotspot2_hotspot_132.jpg\n",
      "Đã đổi tên hotspot_133.jpg thành hotspot2_hotspot_133.jpg\n",
      "Đã đổi tên hotspot_134.jpg thành hotspot2_hotspot_134.jpg\n",
      "Đã đổi tên hotspot_135.jpg thành hotspot2_hotspot_135.jpg\n",
      "Đã đổi tên hotspot_136.jpg thành hotspot2_hotspot_136.jpg\n",
      "Đã đổi tên hotspot_137.jpg thành hotspot2_hotspot_137.jpg\n",
      "Đã đổi tên hotspot_138.jpg thành hotspot2_hotspot_138.jpg\n",
      "Đã đổi tên hotspot_139.jpg thành hotspot2_hotspot_139.jpg\n",
      "Đã đổi tên hotspot_14.jpg thành hotspot2_hotspot_14.jpg\n",
      "Đã đổi tên hotspot_140.jpg thành hotspot2_hotspot_140.jpg\n",
      "Đã đổi tên hotspot_141.jpg thành hotspot2_hotspot_141.jpg\n",
      "Đã đổi tên hotspot_142.jpg thành hotspot2_hotspot_142.jpg\n",
      "Đã đổi tên hotspot_143.jpg thành hotspot2_hotspot_143.jpg\n",
      "Đã đổi tên hotspot_144.jpg thành hotspot2_hotspot_144.jpg\n",
      "Đã đổi tên hotspot_145.jpg thành hotspot2_hotspot_145.jpg\n",
      "Đã đổi tên hotspot_146.jpg thành hotspot2_hotspot_146.jpg\n",
      "Đã đổi tên hotspot_147.jpg thành hotspot2_hotspot_147.jpg\n",
      "Đã đổi tên hotspot_148.jpg thành hotspot2_hotspot_148.jpg\n",
      "Đã đổi tên hotspot_149.jpg thành hotspot2_hotspot_149.jpg\n",
      "Đã đổi tên hotspot_15.jpg thành hotspot2_hotspot_15.jpg\n",
      "Đã đổi tên hotspot_150.jpg thành hotspot2_hotspot_150.jpg\n",
      "Đã đổi tên hotspot_151.jpg thành hotspot2_hotspot_151.jpg\n",
      "Đã đổi tên hotspot_152.jpg thành hotspot2_hotspot_152.jpg\n",
      "Đã đổi tên hotspot_153.jpg thành hotspot2_hotspot_153.jpg\n",
      "Đã đổi tên hotspot_154.jpg thành hotspot2_hotspot_154.jpg\n",
      "Đã đổi tên hotspot_155.jpg thành hotspot2_hotspot_155.jpg\n",
      "Đã đổi tên hotspot_156.jpg thành hotspot2_hotspot_156.jpg\n",
      "Đã đổi tên hotspot_157.jpg thành hotspot2_hotspot_157.jpg\n",
      "Đã đổi tên hotspot_158.jpg thành hotspot2_hotspot_158.jpg\n",
      "Đã đổi tên hotspot_159.jpg thành hotspot2_hotspot_159.jpg\n",
      "Đã đổi tên hotspot_16.jpg thành hotspot2_hotspot_16.jpg\n",
      "Đã đổi tên hotspot_160.jpg thành hotspot2_hotspot_160.jpg\n",
      "Đã đổi tên hotspot_161.jpg thành hotspot2_hotspot_161.jpg\n",
      "Đã đổi tên hotspot_162.jpg thành hotspot2_hotspot_162.jpg\n",
      "Đã đổi tên hotspot_163.jpg thành hotspot2_hotspot_163.jpg\n",
      "Đã đổi tên hotspot_164.jpg thành hotspot2_hotspot_164.jpg\n",
      "Đã đổi tên hotspot_165.jpg thành hotspot2_hotspot_165.jpg\n",
      "Đã đổi tên hotspot_166.jpg thành hotspot2_hotspot_166.jpg\n",
      "Đã đổi tên hotspot_167.jpg thành hotspot2_hotspot_167.jpg\n",
      "Đã đổi tên hotspot_168.jpg thành hotspot2_hotspot_168.jpg\n",
      "Đã đổi tên hotspot_169.jpg thành hotspot2_hotspot_169.jpg\n",
      "Đã đổi tên hotspot_17.jpg thành hotspot2_hotspot_17.jpg\n",
      "Đã đổi tên hotspot_170.jpg thành hotspot2_hotspot_170.jpg\n",
      "Đã đổi tên hotspot_171.jpg thành hotspot2_hotspot_171.jpg\n",
      "Đã đổi tên hotspot_172.jpg thành hotspot2_hotspot_172.jpg\n",
      "Đã đổi tên hotspot_173.jpg thành hotspot2_hotspot_173.jpg\n",
      "Đã đổi tên hotspot_174.jpg thành hotspot2_hotspot_174.jpg\n",
      "Đã đổi tên hotspot_175.jpg thành hotspot2_hotspot_175.jpg\n",
      "Đã đổi tên hotspot_176.jpg thành hotspot2_hotspot_176.jpg\n",
      "Đã đổi tên hotspot_177.jpg thành hotspot2_hotspot_177.jpg\n",
      "Đã đổi tên hotspot_178.jpg thành hotspot2_hotspot_178.jpg\n",
      "Đã đổi tên hotspot_179.jpg thành hotspot2_hotspot_179.jpg\n",
      "Đã đổi tên hotspot_18.jpg thành hotspot2_hotspot_18.jpg\n",
      "Đã đổi tên hotspot_180.jpg thành hotspot2_hotspot_180.jpg\n",
      "Đã đổi tên hotspot_181.jpg thành hotspot2_hotspot_181.jpg\n",
      "Đã đổi tên hotspot_182.jpg thành hotspot2_hotspot_182.jpg\n",
      "Đã đổi tên hotspot_183.jpg thành hotspot2_hotspot_183.jpg\n",
      "Đã đổi tên hotspot_184.jpg thành hotspot2_hotspot_184.jpg\n",
      "Đã đổi tên hotspot_185.jpg thành hotspot2_hotspot_185.jpg\n",
      "Đã đổi tên hotspot_186.jpg thành hotspot2_hotspot_186.jpg\n",
      "Đã đổi tên hotspot_187.jpg thành hotspot2_hotspot_187.jpg\n",
      "Đã đổi tên hotspot_188.jpg thành hotspot2_hotspot_188.jpg\n",
      "Đã đổi tên hotspot_189.jpg thành hotspot2_hotspot_189.jpg\n",
      "Đã đổi tên hotspot_19.jpg thành hotspot2_hotspot_19.jpg\n",
      "Đã đổi tên hotspot_190.jpg thành hotspot2_hotspot_190.jpg\n",
      "Đã đổi tên hotspot_191.jpg thành hotspot2_hotspot_191.jpg\n",
      "Đã đổi tên hotspot_192.jpg thành hotspot2_hotspot_192.jpg\n",
      "Đã đổi tên hotspot_193.jpg thành hotspot2_hotspot_193.jpg\n",
      "Đã đổi tên hotspot_194.jpg thành hotspot2_hotspot_194.jpg\n",
      "Đã đổi tên hotspot_195.jpg thành hotspot2_hotspot_195.jpg\n",
      "Đã đổi tên hotspot_196.jpg thành hotspot2_hotspot_196.jpg\n",
      "Đã đổi tên hotspot_197.jpg thành hotspot2_hotspot_197.jpg\n",
      "Đã đổi tên hotspot_198.jpg thành hotspot2_hotspot_198.jpg\n",
      "Đã đổi tên hotspot_199.jpg thành hotspot2_hotspot_199.jpg\n",
      "Đã đổi tên hotspot_2.jpg thành hotspot2_hotspot_2.jpg\n",
      "Đã đổi tên hotspot_20.jpg thành hotspot2_hotspot_20.jpg\n",
      "Đã đổi tên hotspot_200.jpg thành hotspot2_hotspot_200.jpg\n",
      "Đã đổi tên hotspot_201.jpg thành hotspot2_hotspot_201.jpg\n",
      "Đã đổi tên hotspot_202.jpg thành hotspot2_hotspot_202.jpg\n",
      "Đã đổi tên hotspot_203.jpg thành hotspot2_hotspot_203.jpg\n",
      "Đã đổi tên hotspot_204.jpg thành hotspot2_hotspot_204.jpg\n",
      "Đã đổi tên hotspot_205.jpg thành hotspot2_hotspot_205.jpg\n",
      "Đã đổi tên hotspot_206.jpg thành hotspot2_hotspot_206.jpg\n",
      "Đã đổi tên hotspot_207.jpg thành hotspot2_hotspot_207.jpg\n",
      "Đã đổi tên hotspot_208.jpg thành hotspot2_hotspot_208.jpg\n",
      "Đã đổi tên hotspot_209.jpg thành hotspot2_hotspot_209.jpg\n",
      "Đã đổi tên hotspot_21.jpg thành hotspot2_hotspot_21.jpg\n",
      "Đã đổi tên hotspot_210.jpg thành hotspot2_hotspot_210.jpg\n",
      "Đã đổi tên hotspot_211.jpg thành hotspot2_hotspot_211.jpg\n",
      "Đã đổi tên hotspot_212.jpg thành hotspot2_hotspot_212.jpg\n",
      "Đã đổi tên hotspot_213.jpg thành hotspot2_hotspot_213.jpg\n",
      "Đã đổi tên hotspot_214.jpg thành hotspot2_hotspot_214.jpg\n",
      "Đã đổi tên hotspot_215.jpg thành hotspot2_hotspot_215.jpg\n",
      "Đã đổi tên hotspot_22.jpg thành hotspot2_hotspot_22.jpg\n",
      "Đã đổi tên hotspot_23.jpg thành hotspot2_hotspot_23.jpg\n",
      "Đã đổi tên hotspot_24.jpg thành hotspot2_hotspot_24.jpg\n",
      "Đã đổi tên hotspot_25.jpg thành hotspot2_hotspot_25.jpg\n",
      "Đã đổi tên hotspot_26.jpg thành hotspot2_hotspot_26.jpg\n",
      "Đã đổi tên hotspot_27.jpg thành hotspot2_hotspot_27.jpg\n",
      "Đã đổi tên hotspot_28.jpg thành hotspot2_hotspot_28.jpg\n",
      "Đã đổi tên hotspot_29.jpg thành hotspot2_hotspot_29.jpg\n",
      "Đã đổi tên hotspot_3.jpg thành hotspot2_hotspot_3.jpg\n",
      "Đã đổi tên hotspot_30.jpg thành hotspot2_hotspot_30.jpg\n",
      "Đã đổi tên hotspot_31.jpg thành hotspot2_hotspot_31.jpg\n",
      "Đã đổi tên hotspot_32.jpg thành hotspot2_hotspot_32.jpg\n",
      "Đã đổi tên hotspot_33.jpg thành hotspot2_hotspot_33.jpg\n",
      "Đã đổi tên hotspot_34.jpg thành hotspot2_hotspot_34.jpg\n",
      "Đã đổi tên hotspot_35.jpg thành hotspot2_hotspot_35.jpg\n",
      "Đã đổi tên hotspot_36.jpg thành hotspot2_hotspot_36.jpg\n",
      "Đã đổi tên hotspot_37.jpg thành hotspot2_hotspot_37.jpg\n",
      "Đã đổi tên hotspot_38.jpg thành hotspot2_hotspot_38.jpg\n",
      "Đã đổi tên hotspot_39.jpg thành hotspot2_hotspot_39.jpg\n",
      "Đã đổi tên hotspot_4.jpg thành hotspot2_hotspot_4.jpg\n",
      "Đã đổi tên hotspot_40.jpg thành hotspot2_hotspot_40.jpg\n",
      "Đã đổi tên hotspot_41.jpg thành hotspot2_hotspot_41.jpg\n",
      "Đã đổi tên hotspot_42.jpg thành hotspot2_hotspot_42.jpg\n",
      "Đã đổi tên hotspot_43.jpg thành hotspot2_hotspot_43.jpg\n",
      "Đã đổi tên hotspot_44.jpg thành hotspot2_hotspot_44.jpg\n",
      "Đã đổi tên hotspot_45.jpg thành hotspot2_hotspot_45.jpg\n",
      "Đã đổi tên hotspot_46.jpg thành hotspot2_hotspot_46.jpg\n",
      "Đã đổi tên hotspot_47.jpg thành hotspot2_hotspot_47.jpg\n",
      "Đã đổi tên hotspot_48.jpg thành hotspot2_hotspot_48.jpg\n",
      "Đã đổi tên hotspot_49.jpg thành hotspot2_hotspot_49.jpg\n",
      "Đã đổi tên hotspot_5.jpg thành hotspot2_hotspot_5.jpg\n",
      "Đã đổi tên hotspot_50.jpg thành hotspot2_hotspot_50.jpg\n",
      "Đã đổi tên hotspot_51.jpg thành hotspot2_hotspot_51.jpg\n",
      "Đã đổi tên hotspot_52.jpg thành hotspot2_hotspot_52.jpg\n",
      "Đã đổi tên hotspot_53.jpg thành hotspot2_hotspot_53.jpg\n",
      "Đã đổi tên hotspot_54.jpg thành hotspot2_hotspot_54.jpg\n",
      "Đã đổi tên hotspot_55.jpg thành hotspot2_hotspot_55.jpg\n",
      "Đã đổi tên hotspot_56.jpg thành hotspot2_hotspot_56.jpg\n",
      "Đã đổi tên hotspot_57.jpg thành hotspot2_hotspot_57.jpg\n",
      "Đã đổi tên hotspot_58.jpg thành hotspot2_hotspot_58.jpg\n",
      "Đã đổi tên hotspot_59.jpg thành hotspot2_hotspot_59.jpg\n",
      "Đã đổi tên hotspot_6.jpg thành hotspot2_hotspot_6.jpg\n",
      "Đã đổi tên hotspot_60.jpg thành hotspot2_hotspot_60.jpg\n",
      "Đã đổi tên hotspot_61.jpg thành hotspot2_hotspot_61.jpg\n",
      "Đã đổi tên hotspot_62.jpg thành hotspot2_hotspot_62.jpg\n",
      "Đã đổi tên hotspot_63.jpg thành hotspot2_hotspot_63.jpg\n",
      "Đã đổi tên hotspot_64.jpg thành hotspot2_hotspot_64.jpg\n",
      "Đã đổi tên hotspot_65.jpg thành hotspot2_hotspot_65.jpg\n",
      "Đã đổi tên hotspot_66.jpg thành hotspot2_hotspot_66.jpg\n",
      "Đã đổi tên hotspot_67.jpg thành hotspot2_hotspot_67.jpg\n",
      "Đã đổi tên hotspot_68.jpg thành hotspot2_hotspot_68.jpg\n",
      "Đã đổi tên hotspot_69.jpg thành hotspot2_hotspot_69.jpg\n",
      "Đã đổi tên hotspot_7.jpg thành hotspot2_hotspot_7.jpg\n",
      "Đã đổi tên hotspot_70.jpg thành hotspot2_hotspot_70.jpg\n",
      "Đã đổi tên hotspot_71.jpg thành hotspot2_hotspot_71.jpg\n",
      "Đã đổi tên hotspot_72.jpg thành hotspot2_hotspot_72.jpg\n",
      "Đã đổi tên hotspot_73.jpg thành hotspot2_hotspot_73.jpg\n",
      "Đã đổi tên hotspot_74.jpg thành hotspot2_hotspot_74.jpg\n",
      "Đã đổi tên hotspot_75.jpg thành hotspot2_hotspot_75.jpg\n",
      "Đã đổi tên hotspot_76.jpg thành hotspot2_hotspot_76.jpg\n",
      "Đã đổi tên hotspot_77.jpg thành hotspot2_hotspot_77.jpg\n",
      "Đã đổi tên hotspot_78.jpg thành hotspot2_hotspot_78.jpg\n",
      "Đã đổi tên hotspot_79.jpg thành hotspot2_hotspot_79.jpg\n",
      "Đã đổi tên hotspot_8.jpg thành hotspot2_hotspot_8.jpg\n",
      "Đã đổi tên hotspot_80.jpg thành hotspot2_hotspot_80.jpg\n",
      "Đã đổi tên hotspot_81.jpg thành hotspot2_hotspot_81.jpg\n",
      "Đã đổi tên hotspot_82.jpg thành hotspot2_hotspot_82.jpg\n",
      "Đã đổi tên hotspot_83.jpg thành hotspot2_hotspot_83.jpg\n",
      "Đã đổi tên hotspot_84.jpg thành hotspot2_hotspot_84.jpg\n",
      "Đã đổi tên hotspot_85.jpg thành hotspot2_hotspot_85.jpg\n",
      "Đã đổi tên hotspot_86.jpg thành hotspot2_hotspot_86.jpg\n",
      "Đã đổi tên hotspot_87.jpg thành hotspot2_hotspot_87.jpg\n",
      "Đã đổi tên hotspot_88.jpg thành hotspot2_hotspot_88.jpg\n",
      "Đã đổi tên hotspot_89.jpg thành hotspot2_hotspot_89.jpg\n",
      "Đã đổi tên hotspot_9.jpg thành hotspot2_hotspot_9.jpg\n",
      "Đã đổi tên hotspot_90.jpg thành hotspot2_hotspot_90.jpg\n",
      "Đã đổi tên hotspot_91.jpg thành hotspot2_hotspot_91.jpg\n",
      "Đã đổi tên hotspot_92.jpg thành hotspot2_hotspot_92.jpg\n",
      "Đã đổi tên hotspot_93.jpg thành hotspot2_hotspot_93.jpg\n",
      "Đã đổi tên hotspot_94.jpg thành hotspot2_hotspot_94.jpg\n",
      "Đã đổi tên hotspot_95.jpg thành hotspot2_hotspot_95.jpg\n",
      "Đã đổi tên hotspot_96.jpg thành hotspot2_hotspot_96.jpg\n",
      "Đã đổi tên hotspot_97.jpg thành hotspot2_hotspot_97.jpg\n",
      "Đã đổi tên hotspot_98.jpg thành hotspot2_hotspot_98.jpg\n",
      "Đã đổi tên hotspot_99.jpg thành hotspot2_hotspot_99.jpg\n"
     ]
    }
   ],
   "source": [
    "import os\n",
    "\n",
    "# Đường dẫn đến thư mục cần truy cập và thay đổi các tệp tin\n",
    "folder_path = 'faultme/1/images'\n",
    "\n",
    "# Liệt kê tất cả các tệp tin trong thư mục\n",
    "files = os.listdir(folder_path)\n",
    "\n",
    "# Ví dụ: Thêm chữ cái 'A' vào tên của mỗi tệp tin\n",
    "for file_name in files:\n",
    "    # Đường dẫn đầy đủ tới tệp tin\n",
    "    file_path = os.path.join(folder_path, file_name)\n",
    "    \n",
    "    # Tạo tên mới bằng cách thêm chữ cái 'A' vào đầu tên\n",
    "    new_file_name = 'hotspot2_' + file_name\n",
    "    \n",
    "    try:\n",
    "        # Thực hiện thay đổi tên tệp tin\n",
    "        os.rename(file_path, os.path.join(folder_path, new_file_name))\n",
    "        print(f\"Đã đổi tên {file_name} thành {new_file_name}\")\n",
    "    except Exception as e:\n",
    "        print(f\"Lỗi khi đổi tên {file_name}: {e}\")"
   ]
  },
  {
   "cell_type": "code",
   "execution_count": null,
   "metadata": {},
   "outputs": [],
   "source": []
  }
 ],
 "metadata": {
  "kernelspec": {
   "display_name": "venv",
   "language": "python",
   "name": "python3"
  },
  "language_info": {
   "codemirror_mode": {
    "name": "ipython",
    "version": 3
   },
   "file_extension": ".py",
   "mimetype": "text/x-python",
   "name": "python",
   "nbconvert_exporter": "python",
   "pygments_lexer": "ipython3",
   "version": "3.10.10"
  }
 },
 "nbformat": 4,
 "nbformat_minor": 2
}
